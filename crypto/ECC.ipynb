{
 "metadata": {
  "name": ""
 },
 "nbformat": 3,
 "nbformat_minor": 0,
 "worksheets": [
  {
   "cells": [
    {
     "cell_type": "markdown",
     "metadata": {},
     "source": [
      "Elliptic Curve Cryptography\n",
      "============================\n",
      "\n",
      "Elliptic Curve Cryptography is a (relatively) modern standard for securing an decrypting data using public/private key pairs. It has key advantages over its main competitors, the AES and SHA algorithm families, in that it requires less bits of information to provide an equivalent level of security. See http://www.linuxjournal.com/content/elliptic-curve-cryptography for a list of comparable key spaces. The core security comes from the difficulty of computing the discrete logarithm, similar to how other algorithms utilize the difficulty of finding prime numbers/prime factors."
     ]
    },
    {
     "cell_type": "markdown",
     "metadata": {},
     "source": [
      "Basic Operations\n",
      "================\n",
      "\n",
      "We will review the basic operations involved in Elliptic Curve Cryptography (ECC)\n",
      "namely the modular form of addition, multiplication, division, inverse, exponentiation, and square roots. These operations form the\n",
      "core operations of many cryptographic algorithms, and ECC is no exception. Much of these building blocks were heavily borrowed (read: copied) from the very excellent resources at http://www.johannes-bauer.com/compsci/ecc/ , https://gist.github.com/bellbind/1414867, and http://eli.thegreenplace.net/2009/03/07/computing-modular-square-roots-in-python/ .\n"
     ]
    },
    {
     "cell_type": "markdown",
     "metadata": {},
     "source": [
      "Addition/Subtraction\n",
      "===================="
     ]
    },
    {
     "cell_type": "code",
     "collapsed": false,
     "input": [
      "def add(i, j, p):\n",
      "    return (i + j) % p\n",
      "\n",
      "def sub(i, j, p):\n",
      "    return (i - j) % p"
     ],
     "language": "python",
     "metadata": {},
     "outputs": [],
     "prompt_number": 508
    },
    {
     "cell_type": "markdown",
     "metadata": {},
     "source": [
      "Multiplication\n",
      "=============="
     ]
    },
    {
     "cell_type": "code",
     "collapsed": false,
     "input": [
      "def mult(i, j, p):\n",
      "    n = i\n",
      "    r = 0\n",
      "    for bit in range(bitlength):\n",
      "        if (j & (1 << bit)):\n",
      "            r = (r + n) % p\n",
      "        n = (n + n) % p\n",
      "    return r"
     ],
     "language": "python",
     "metadata": {},
     "outputs": [],
     "prompt_number": 509
    },
    {
     "cell_type": "markdown",
     "metadata": {},
     "source": [
      "Division\n",
      "========"
     ]
    },
    {
     "cell_type": "code",
     "collapsed": false,
     "input": [
      "def eea(i, j):\n",
      "    (s, t, u, v) = (1, 0, 0, 1)\n",
      "    while j != 0:\n",
      "        (q, r) = (i // j, i % j)\n",
      "        (unew, vnew) = (s, t)\n",
      "        s = u - (q * s)\n",
      "        t = v - (q * t)\n",
      "        (i, j) = (j, r)\n",
      "        (u, v) = (unew, vnew)\n",
      "    return (i, u, v)\n",
      "\n",
      "def div(i, j, p):\n",
      "    return mult(i, eea(j, p)[0], p)"
     ],
     "language": "python",
     "metadata": {},
     "outputs": [],
     "prompt_number": 510
    },
    {
     "cell_type": "markdown",
     "metadata": {},
     "source": [
      "Inverse\n",
      "======="
     ]
    },
    {
     "cell_type": "code",
     "collapsed": false,
     "input": [
      "def inv(i, p):\n",
      "    n = eea(i, p)[0]\n",
      "    while n < 0:\n",
      "        n += i\n",
      "    return n"
     ],
     "language": "python",
     "metadata": {},
     "outputs": [],
     "prompt_number": 511
    },
    {
     "cell_type": "markdown",
     "metadata": {},
     "source": [
      "Exponentiation\n",
      "=============="
     ]
    },
    {
     "cell_type": "code",
     "collapsed": false,
     "input": [
      "def exp(i, j, p):\n",
      "    n = i\n",
      "    r = 1\n",
      "    for bit in range(bitlength):\n",
      "        if (j & (1 << bit)):\n",
      "            r = mult(r, n, p)\n",
      "        n = mult(n, n, p)\n",
      "    return r"
     ],
     "language": "python",
     "metadata": {},
     "outputs": [],
     "prompt_number": 512
    },
    {
     "cell_type": "markdown",
     "metadata": {},
     "source": [
      "Square Root\n",
      "==========="
     ]
    },
    {
     "cell_type": "code",
     "collapsed": false,
     "input": [
      "def sqrt(i, p):\n",
      "    # Simple cases\n",
      "    if legendre_symbol(i, p) != 1:\n",
      "        return 0\n",
      "    elif i == 0:\n",
      "        return 0\n",
      "    elif p == 2:\n",
      "        return p\n",
      "    elif p % 4 == 3:\n",
      "        return pow(i, (p + 1) / 4, p)\n",
      "\n",
      "    # Partition p-1 to s * 2^e for an odd s (i.e.\n",
      "    # reduce all the powers of 2 from p-1)\n",
      "    s = p - 1\n",
      "    e = 0\n",
      "    while s % 2 == 0:\n",
      "        s /= 2\n",
      "        e += 1\n",
      "\n",
      "    # Find some 'n' with a legendre symbol n|p = -1.\n",
      "    # Shouldn't take long.\n",
      "    n = 2\n",
      "    while legendre_symbol(n, p) != -1:\n",
      "        n += 1\n",
      "\n",
      "    # Here be dragons!\n",
      "    # Read the paper \"Square roots from 1; 24, 51,\n",
      "    # 10 to Dan Shanks\" by Ezra Brown for more\n",
      "    # information\n",
      "    #\n",
      "\n",
      "    # x is a guess of the square root that gets better\n",
      "    # with each iteration.\n",
      "    # b is the \"fudge factor\" - by how much we're off\n",
      "    # with the guess. The invariant x^2 = ab (mod p)\n",
      "    # is maintained throughout the loop.\n",
      "    # g is used for successive powers of n to update\n",
      "    # both a and b\n",
      "    # r is the exponent - decreases with each update\n",
      "    x = pow(i, (s + 1) / 2, p)\n",
      "    b = pow(i, s, p)\n",
      "    g = pow(n, s, p)\n",
      "    r = e\n",
      "\n",
      "    while True:\n",
      "        t = b\n",
      "        m = 0\n",
      "        for m in xrange(r):\n",
      "            if t == 1:\n",
      "                break\n",
      "            t = pow(t, 2, p)\n",
      "\n",
      "        if m == 0:\n",
      "            return x\n",
      "\n",
      "        gs = pow(g, 2 ** (r - m - 1), p)\n",
      "        g = (gs * gs) % p\n",
      "        x = (x * gs) % p\n",
      "        b = (b * g) % p\n",
      "        r = m\n",
      "\n",
      "def legendre_symbol(i, p):\n",
      "    ls = pow(i, (p - 1) / 2, p)\n",
      "    return -1 if ls == p - 1 else ls"
     ],
     "language": "python",
     "metadata": {},
     "outputs": [],
     "prompt_number": 513
    },
    {
     "cell_type": "markdown",
     "metadata": {},
     "source": [
      "Using These Tools for Cryptography\n",
      "==================================\n",
      "\n",
      "ECC is based on an idea called \"elliptic curves\", which are defined as points which fufill the curve equation:\n",
      "\n",
      "$$y^2 = x^3 + ax + b \\space \\space \\space \\space mod \\space p$$\n",
      "$$4a^3 + 27b^2 \\neq 0$$\n",
      "\n",
      "Several different standards bodies have defined \"good\" values for $$a, b, p$$ \n",
      "Individuals can also use their own if they do not trust the standards committee - though this is NOT recommended! One further variable is necessary - the generator point(s) $$G = (g_x, g_y)$$\n",
      "We will see how this is used in a minute, but to learn more see http://stackoverflow.com/questions/11156779/generate-base-point-g-of-elliptic-curve-for-elliptic-curve-cryptography. \n",
      "\n",
      "Let's retrieve the parameters for a real curve from OpenSSL. This will work fine if you are on a Linux-ish system... best of luck if you are not!"
     ]
    },
    {
     "cell_type": "code",
     "collapsed": false,
     "input": [
      "!openssl ecparam -param_enc explicit -conv_form uncompressed -text -noout -no_seed -name secp112r1"
     ],
     "language": "python",
     "metadata": {},
     "outputs": [
      {
       "output_type": "stream",
       "stream": "stdout",
       "text": [
        "Field Type: prime-field\r\n",
        "Prime:\r\n",
        "    00:db:7c:2a:bf:62:e3:5e:66:80:76:be:ad:20:8b\r\n",
        "A:   \r\n",
        "    00:db:7c:2a:bf:62:e3:5e:66:80:76:be:ad:20:88\r\n",
        "B:   \r\n",
        "    65:9e:f8:ba:04:39:16:ee:de:89:11:70:2b:22\r\n",
        "Generator (uncompressed):\r\n",
        "    04:09:48:72:39:99:5a:5e:e7:6b:55:f9:c2:f0:98:\r\n",
        "    a8:9c:e5:af:87:24:c0:a2:3e:0e:0f:f7:75:00\r\n",
        "Order: \r\n",
        "    00:db:7c:2a:bf:62:e3:5e:76:28:df:ac:65:61:c5\r\n",
        "Cofactor:  1 (0x1)\r\n"
       ]
      }
     ],
     "prompt_number": 514
    },
    {
     "cell_type": "code",
     "collapsed": false,
     "input": [
      "import subprocess\n",
      "s = \"openssl ecparam -param_enc explicit -conv_form uncompressed -text -noout -no_seed -name secp112r1\"\n",
      "c = subprocess.Popen(s, shell=True, stdout=subprocess.PIPE).communicate()[0]"
     ],
     "language": "python",
     "metadata": {},
     "outputs": [],
     "prompt_number": 515
    },
    {
     "cell_type": "code",
     "collapsed": false,
     "input": [
      "print c"
     ],
     "language": "python",
     "metadata": {},
     "outputs": [
      {
       "output_type": "stream",
       "stream": "stdout",
       "text": [
        "Field Type: prime-field\n",
        "Prime:\n",
        "    00:db:7c:2a:bf:62:e3:5e:66:80:76:be:ad:20:8b\n",
        "A:   \n",
        "    00:db:7c:2a:bf:62:e3:5e:66:80:76:be:ad:20:88\n",
        "B:   \n",
        "    65:9e:f8:ba:04:39:16:ee:de:89:11:70:2b:22\n",
        "Generator (uncompressed):\n",
        "    04:09:48:72:39:99:5a:5e:e7:6b:55:f9:c2:f0:98:\n",
        "    a8:9c:e5:af:87:24:c0:a2:3e:0e:0f:f7:75:00\n",
        "Order: \n",
        "    00:db:7c:2a:bf:62:e3:5e:76:28:df:ac:65:61:c5\n",
        "Cofactor:  1 (0x1)\n",
        "\n"
       ]
      }
     ],
     "prompt_number": 516
    },
    {
     "cell_type": "code",
     "collapsed": false,
     "input": [
      "#This is my hacky conversion. There are many like it, but this one is mine.\n",
      "\n",
      "#Convert to int from hex\n",
      "l = map(lambda x: x.strip().replace(':','').lower(), c.split(\"\\n\"))[1:-2] #Get rid of extra info\n",
      "#Reorder to avoid issues with dict conversion\n",
      "l = l[-2:] + l[:-2]\n",
      "for i,n in enumerate(l):\n",
      "    if n not in ['prime', 'a', 'b', 'generator (uncompressed)', 'order']:\n",
      "        l[i] = int(n, 16)\n",
      "\n",
      "#Python-fu\n",
      "#Bigger list of ways to do this here - dict(zip(*iter)) is a fairly common python idiom.\n",
      "#http://stackoverflow.com/questions/6900955/python-convert-list-to-dictionary\n",
      "#http://stackoverflow.com/questions/2233204/how-does-zipitersn-work-in-python\n",
      "#Remember - python iterators can do magic if you let them\n",
      "d = dict(zip(*[iter(l)]*2))\n",
      "\n",
      "#Fix generator key and create alternate names\n",
      "joint = l[-2:]\n",
      "d['generator (uncompressed)'] = tuple(joint)\n",
      "d['p'] = d['prime']\n",
      "d['gx'] = d['generator (uncompressed)'][0]\n",
      "d['gy'] = d['generator (uncompressed)'][1]\n",
      "#Looking at secp112\n",
      "d['bitlength'] = 112\n",
      "#Nicer name\n",
      "curve_params = d\n",
      "print curve_params"
     ],
     "language": "python",
     "metadata": {},
     "outputs": [
      {
       "output_type": "stream",
       "stream": "stdout",
       "text": [
        "{'prime': 4451685225093714772084598273548427L, 'a': 4451685225093714772084598273548424L, 'generator (uncompressed)': (20957468899197283049014209095594136L, 3419875491033170827167861896082688L), 'b': 2061118396808653202902996166388514L, 'bitlength': 112, 'gy': 3419875491033170827167861896082688L, 'gx': 20957468899197283049014209095594136L, 'p': 4451685225093714772084598273548427L, 'order': 4451685225093714776491891542548933L}\n"
       ]
      }
     ],
     "prompt_number": 517
    },
    {
     "cell_type": "markdown",
     "metadata": {},
     "source": [
      "Pointwise Operations\n",
      "====================\n",
      "To perform useful calculations, we need to be able to perform operations on points, on a curve. For a quick graphical explanation, see http://www.youtube.com/watch?v=kzyLW44Ve2k . \n",
      "\n",
      "One important \"point\" (puns...) is\n",
      "$$O$$\n",
      "This is a point which represents infinity - all lines intersect at infinity, so every elliptic curve will contain this point.\n",
      "This point is also the identity point for these curves - any point plus the infinity point equals itself."
     ]
    },
    {
     "cell_type": "code",
     "collapsed": false,
     "input": [
      "def point_double(ix, iy, p, a):\n",
      "    s = ((3 * ix * ix + a) * inv(2 * iy, p)) % p\n",
      "    #s = div(3 * ix *ix + a, 2 * iy, p)\n",
      "    rx = (s * s - 2 * ix) % p\n",
      "    ry = (s * (ix - rx) - iy) % p\n",
      "    return (rx, ry)\n",
      "    \n",
      "def point_add(ix, iy, jx, jy, p):\n",
      "    s = ((iy - jy) * inv(ix - jx, p)) % p\n",
      "    #s = div(iy - jy, ix - jx, p)\n",
      "    rx = (s * s - ix - jx) % p\n",
      "    ry = (s * (ix - rx) - iy) % p\n",
      "    return (rx, ry)"
     ],
     "language": "python",
     "metadata": {},
     "outputs": [],
     "prompt_number": 518
    },
    {
     "cell_type": "code",
     "collapsed": false,
     "input": [
      "def scalar_mult_naive(k, ix, iy, p, bitlength, a):\n",
      "    rx = 0\n",
      "    ry = 0\n",
      "    for i in range(k):\n",
      "        rx, ry = point_add(rx, ry, ix, iy, p,)\n",
      "    return (rx, ry)\n",
      "\n",
      "def scalar_mult(k, ix, iy, p, bitlength, a):\n",
      "    return scalar_mult_naive(k, ix, iy, p, bitlength, a)\n",
      "    #return scalar_mult_opt(k, ix, iy, p, bitlength, a)\n",
      "\n",
      "def scalar_mult_opt(k, ix, iy, p, bitlength, a):\n",
      "    nx = ix\n",
      "    ny = iy\n",
      "    rx = 0\n",
      "    ry = 0\n",
      "    for bit in range(bitlength):\n",
      "        if (k & (1 << bit)):\n",
      "            rx, ry = point_add(rx, ry, nx, ny, p)\n",
      "        nx, ny = point_double(nx, ny, p, a)\n",
      "    return (rx, ry)"
     ],
     "language": "python",
     "metadata": {},
     "outputs": [],
     "prompt_number": 519
    },
    {
     "cell_type": "code",
     "collapsed": false,
     "input": [
      "def check_valid(ix, iy, p, a, b):\n",
      "    lhs = (iy * iy) % p\n",
      "    rhs = ((ix * ix * ix) + a * ix + b) % p\n",
      "    return lhs == rhs"
     ],
     "language": "python",
     "metadata": {},
     "outputs": [],
     "prompt_number": 520
    },
    {
     "cell_type": "code",
     "collapsed": false,
     "input": [
      "n = curve_params['order']\n",
      "bitlength = curve_params['bitlength']\n",
      "gx = curve_params['gx']\n",
      "gy = curve_params['gy']\n",
      "p = curve_params['p']\n",
      "a = curve_params['a']\n",
      "b = curve_params['b']\n",
      "\n",
      "x = 5\n",
      "ysq = (x * x * x + a * x + b) % p\n",
      "y = sqrt(ysq, p)\n",
      "print check_valid(x, y, p, a, b) \n",
      "\n",
      "da = 1\n",
      "qax, qay = scalar_mult(da, gx, gy, p, bitlength, a)\n",
      "r = 2\n",
      "Rx, Ry = scalar_mult(r, gx, gy, p, bitlength, a)\n",
      "print scalar_mult(da, Rx, Ry, p, bitlength, a) == scalar_mult(r, qax, qay, p, bitlength, a)\n",
      "#Should be able to choose any value 0 < q < n for public key generation\n",
      "#q = random_integers(1, n-1, 1)\n",
      "#print q\n",
      "#print scalar_mult(q, gx, gy"
     ],
     "language": "python",
     "metadata": {},
     "outputs": [
      {
       "output_type": "stream",
       "stream": "stdout",
       "text": [
        "True\n",
        "False\n"
       ]
      }
     ],
     "prompt_number": 521
    },
    {
     "cell_type": "code",
     "collapsed": false,
     "input": [],
     "language": "python",
     "metadata": {},
     "outputs": [],
     "prompt_number": 521
    }
   ],
   "metadata": {}
  }
 ]
}